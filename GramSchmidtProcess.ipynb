{
 "cells": [
  {
   "cell_type": "markdown",
   "metadata": {},
   "source": [
    "# Gram-Schmidt process\n",
    "\n",
    "## Instructions\n",
    "In this assignment you will write a function to perform the Gram-Schmidt procedure, which takes a list of vectors and forms an orthonormal basis from this set.\n",
    "As a corollary, the procedure allows us to determine the dimension of the space spanned by the basis vectors, which is equal to or less than the space which the vectors sit.\n",
    "\n"
   ]
  },
  {
   "cell_type": "code",
   "execution_count": null,
   "metadata": {
    "collapsed": true
   },
   "outputs": [],
   "source": [
    "# GRADED FUNCTION\n",
    "import numpy as np\n",
    "import numpy.linalg as la\n",
    "\n",
    "verySmallNumber = 1e-14 # That's 1×10⁻¹⁴ = 0.00000000000001\n",
    "\n",
    "# Our first function will perform the Gram-Schmidt procedure for 4 basis vectors.\n",
    "def gsBasis4(A) :\n",
    "    B = np.array(A, dtype=np.float_) \n",
    "    B[:, 0] = B[:, 0] / la.norm(B[:, 0])\n",
    "    B[:, 1] = B[:, 1] - B[:, 1] @ B[:, 0] * B[:, 0]\n",
    "\n",
    "    if la.norm(B[:, 1]) > verySmallNumber :\n",
    "        B[:, 1] = B[:, 1] / la.norm(B[:, 1])\n",
    "    else :\n",
    "        B[:, 1] = np.zeros_like(B[:, 1])\n",
    "    \n",
    "    B[:, 2] = B[:, 2] - B[:, 2] @ B[:, 0] * B[:, 0]\n",
    "    B[:, 2] = B[:, 2] - B[:, 2] @ B[:, 1] * B[:, 1]\n",
    "    \n",
    "    if la.norm(B[:, 2]) > verySmallNumber :\n",
    "        B[:, 2] = B[:, 2] / la.norm(B[:, 2])\n",
    "    else :\n",
    "        B[:, 2] = np.zeros_like(B[:, 2])    \n",
    "    \n",
    "    B[:, 3] = B[:, 3] - B[:, 3] @ B[:, 0] * B[:, 0]\n",
    "    B[:, 3] = B[:, 3] - B[:, 3] @ B[:, 1] * B[:, 1]    \n",
    "    B[:, 3] = B[:, 3] - B[:, 3] @ B[:, 2] * B[:, 2]    \n",
    "    \n",
    "    if la.norm(B[:, 3]) > verySmallNumber :\n",
    "        B[:, 3] = B[:, 3] / la.norm(B[:, 3])\n",
    "    else :\n",
    "        B[:, 3] = np.zeros_like(B[:, 3])            \n",
    "    \n",
    "    return B\n",
    "\n",
    "# The second part of this exercise will generalise the procedure.\n",
    "def gsBasis(A) :\n",
    "    B = np.array(A, dtype=np.float_) \n",
    "    for i in range(B.shape[1]) :\n",
    "        for j in range(i) :\n",
    "            B[:, i] = B[:, i] - B[:, i] @ B[:, j] * B[:, j]\n",
    "        \n",
    "        if la.norm(B[:, i]) > verySmallNumber:\n",
    "            B[:, i] = B[:, i] / la.norm(B[:, i])\n",
    "        else :\n",
    "            B[:, i] = np.zeros_like(B[:, i]) \n",
    "            \n",
    "        \n",
    "            \n",
    "    \n",
    "    return B\n",
    "\n",
    "# This function uses the Gram-schmidt process to calculate the dimension\n",
    "# Since each vector is normalised to one, or is zero,\n",
    "# the sum of all the norms will be the dimension.\n",
    "def dimensions(A) :\n",
    "    return np.sum(la.norm(gsBasis(A), axis=0))\n"
   ]
  },
  {
   "cell_type": "code",
   "execution_count": null,
   "metadata": {},
   "outputs": [
    {
     "data": {
      "text/plain": [
       "array([[ 0.40824829, -0.1814885 ,  0.04982278,  0.89325973],\n",
       "       [ 0.        ,  0.1088931 ,  0.99349591, -0.03328918],\n",
       "       [ 0.81649658,  0.50816781, -0.06462163, -0.26631346],\n",
       "       [ 0.40824829, -0.83484711,  0.07942048, -0.36063281]])"
      ]
     },
     "execution_count": 2,
     "metadata": {},
     "output_type": "execute_result"
    }
   ],
   "source": [
    "V = np.array([[1,0,2,6],\n",
    "              [0,1,8,2],\n",
    "              [2,8,3,1],\n",
    "              [1,-6,2,3]], dtype=np.float_)\n",
    "gsBasis4(V)"
   ]
  },
  {
   "cell_type": "markdown",
   "metadata": {},
   "source": [
    "## Instructions\n",
    "In this assignment you will write a Python function that will produce a transformation matrix for reflecting vectors in an arbitrarily angled mirror.\n",
    "\n",
    "Building on the last assingment, where you wrote a code to construct an orthonormal basis that spans a set of input vectors, here you will take a matrix which takes simple form in that basis, and transform it into our starting basis.\n",
    "Recall the from the last video,\n",
    "\n",
    " $T = E T_E E^{-1}$ "
   ]
  },
  {
   "cell_type": "code",
   "execution_count": null,
   "metadata": {},
   "outputs": [],
   "source": [
    "from numpy import transpose\n",
    "from readonly.bearNecessities import *"
   ]
  },
  {
   "cell_type": "code",
   "execution_count": null,
   "metadata": {},
   "outputs": [],
   "source": [
    "# GRADED FUNCTION\n",
    "# You should edit this cell.\n",
    "\n",
    "# In this function, you will return the transformation matrix T,\n",
    "# having built it out of an orthonormal basis set E that you create from Bear's Basis\n",
    "# and a transformation matrix in the mirror's coordinates TE.\n",
    "def build_reflection_matrix(bearBasis) : # The parameter bearBasis is a 2×2 matrix that is passed to the function.\n",
    "    # Use the gsBasis function on bearBasis to get the mirror's orthonormal basis.\n",
    "    E = gsBasis(bearBasis)\n",
    "    # Write a matrix in component form that performs the mirror's reflection in the mirror's basis.\n",
    "    # Recall, the mirror operates by negating the last component of a vector.\n",
    "    # Replace a,b,c,d with appropriate values\n",
    "    TE = np.array([[1, 0],\n",
    "                   [0, -1]])\n",
    "    # Combine the matrices E and TE to produce your transformation matrix.\n",
    "    T = E @ TE @ inv(E)\n",
    "    # Finally, we return the result. There is no need to change this line.\n",
    "    return T"
   ]
  },
  {
   "cell_type": "code",
   "execution_count": null,
   "metadata": {},
   "outputs": [],
   "source": [
    "# First load Pyplot, a graph plotting library.\n",
    "%matplotlib inline\n",
    "import matplotlib.pyplot as plt\n",
    "\n",
    "# This is the matrix of Bear's basis vectors.\n",
    "# (When you've done the exercise once, see what happns when you change Bear's basis.)\n",
    "bearBasis = np.array(\n",
    "    [[1,   -1],\n",
    "     [1.5, 2]])\n",
    "# This line uses your code to build a transformation matrix for us to use.\n",
    "T = build_reflection_matrix(bearBasis)\n",
    "\n",
    "# Bear is drawn as a set of polygons, the vertices of which are placed as a matrix list of column vectors.\n",
    "# We have three of these non-square matrix lists: bear_white_fur, bear_black_fur, and bear_face.\n",
    "# We'll make new lists of vertices by applying the T matrix you've calculated.\n",
    "reflected_bear_white_fur = T @ bear_white_fur\n",
    "reflected_bear_black_fur = T @ bear_black_fur\n",
    "reflected_bear_face = T @ bear_face\n",
    "\n",
    "# This next line runs a code to set up the graphics environment.\n",
    "ax = draw_mirror(bearBasis)\n",
    "\n",
    "# We'll first plot Bear, his white fur, his black fur, and his face.\n",
    "ax.fill(bear_white_fur[0], bear_white_fur[1], color=bear_white, zorder=1)\n",
    "ax.fill(bear_black_fur[0], bear_black_fur[1], color=bear_black, zorder=2)\n",
    "ax.plot(bear_face[0], bear_face[1], color=bear_white, zorder=3)\n",
    "\n",
    "# Next we'll plot Bear's reflection.\n",
    "ax.fill(reflected_bear_white_fur[0], reflected_bear_white_fur[1], color=bear_white, zorder=1)\n",
    "ax.fill(reflected_bear_black_fur[0], reflected_bear_black_fur[1], color=bear_black, zorder=2)\n",
    "ax.plot(reflected_bear_face[0], reflected_bear_face[1], color=bear_white, zorder=3);"
   ]
  }
 ],
 "metadata": {
  "coursera": {
   "course_slug": "linear-algebra-machine-learning",
   "graded_item_id": "FNk8v",
   "launcher_item_id": "DdvVk"
  },
  "kernelspec": {
   "display_name": "Python 3",
   "language": "python",
   "name": "python3"
  },
  "language_info": {
   "codemirror_mode": {
    "name": "ipython",
    "version": 3
   },
   "file_extension": ".py",
   "mimetype": "text/x-python",
   "name": "python",
   "nbconvert_exporter": "python",
   "pygments_lexer": "ipython3",
   "version": "3.6.2"
  }
 },
 "nbformat": 4,
 "nbformat_minor": 1
}
